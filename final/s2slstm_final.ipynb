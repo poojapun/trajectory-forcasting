{
 "cells": [
  {
   "cell_type": "code",
   "execution_count": 1,
   "metadata": {
    "papermill": {
     "duration": 22.084222,
     "end_time": "2025-04-01T17:39:40.970631",
     "exception": false,
     "start_time": "2025-04-01T17:39:18.886409",
     "status": "completed"
    },
    "scrolled": true,
    "tags": []
   },
   "outputs": [
    {
     "name": "stdout",
     "output_type": "stream",
     "text": [
      "train_data's shape (10000, 50, 110, 6)\n",
      "test_data's shape (2100, 50, 50, 6)\n"
     ]
    }
   ],
   "source": [
    "import numpy as np \n",
    "import pandas as pd\n",
    "\n",
    "train_file = np.load(\"C:\\\\Users\\\\sherr\\\\Documents\\\\grad\\\\251b\\\\data\\\\train.npz\")\n",
    "data = train_file['data']\n",
    "print(\"train_data's shape\", data.shape)\n",
    "\n",
    "test_file = np.load(\"C:\\\\Users\\\\sherr\\\\Documents\\\\grad\\\\251b\\\\data\\\\test_input.npz\")\n",
    "test_data = test_file['data']\n",
    "print(\"test_data's shape\", test_data.shape)"
   ]
  },
  {
   "cell_type": "markdown",
   "metadata": {},
   "source": [
    "The training set should be of shape (10000, 50, 110, 6). There are 10,000 training scenes, each scene contains 50 agents' trajectories over 110 time steps, and each time step has 6 dimensions.\n",
    "\n",
    "Columns\n",
    "The 6 dimensions are, respectively:\n",
    "\n",
    "position_x: x-coordinate of the agent's position <br>\n",
    "position_y: y-coordinate of the agent's position <br>\n",
    "velocity_x: x-component of the agent's velocity <br>\n",
    "velocity_y: y-component of the agent's velocity <br>\n",
    "heading: heading angle of the agent in radians <br>\n",
    "object_type: encoded object type. The integers indexes this array: <br>\n",
    "['vehicle', 'pedestrian', 'motorcyclist', 'cyclist', 'bus', 'static', 'background', 'construction', 'riderless_bicycle', 'unknown'] <br>\n",
    "\n",
    "For many of the agents, their trajectory is not complete. In the case that this happens or when there are less than 50 agents in the scene, we pad the matrix with zeros. (so don't be surprised when you see a lot of zeros!) <br>\n",
    "\n",
    "Your task is to predict the ego vehicle (agent index 0)'s trajectory. We will pre in a scene given the first 50 time steps (5 seconds) to predict the next 60 time steps. <br>\n",
    "This means that the test set input has shape (2100, 50, 50, 6) (2100 scenes, 50 agents, 50 time steps input, 6 dimensions), and you are expected to upload a csv file of shape (2100 * 60, 2) (2100 scenes, 1 ego agent, 60 time steps prediction, 2 dimensions - just x and y). "
   ]
  },
  {
   "cell_type": "code",
   "execution_count": 2,
   "metadata": {},
   "outputs": [],
   "source": [
    "from sklearn.model_selection import train_test_split\n",
    "import numpy as np\n",
    "import pandas as pd\n",
    "import matplotlib.pyplot as plt\n",
    "import random\n",
    "\n",
    "import torch\n",
    "import torch.nn as nn\n",
    "import torch.optim as optim\n",
    "from torch.utils.data import Dataset, DataLoader\n",
    "from torch_geometric.data import Data, Batch\n",
    "import tqdm\n",
    "\n",
    "train_data, val_data = train_test_split(data, test_size=0.20, random_state=42)\n",
    "\n",
    "# Set device for training speedup\n",
    "if torch.backends.mps.is_available():\n",
    "    device = torch.device('mps')\n",
    "    print(\"Using Apple Silicon GPU\")\n",
    "elif torch.cuda.is_available():\n",
    "    device = torch.device('cuda')\n",
    "    print(\"Using CUDA GPU\")\n",
    "else:\n",
    "    device = torch.device('cpu')"
   ]
  },
  {
   "cell_type": "code",
   "execution_count": 3,
   "metadata": {},
   "outputs": [],
   "source": [
    "class TrajectoryDatasetTrain(Dataset):\n",
    "    def __init__(self, data, scale=10.0, augment=True):\n",
    "        \"\"\"\n",
    "        data: Shape (N, 50, 110, 6) Training data\n",
    "        scale: Scale for normalization (suggested to use 10.0 for Argoverse 2 data)\n",
    "        augment: Whether to apply data augmentation (only for training)\n",
    "        \"\"\"\n",
    "        self.data = data\n",
    "        self.scale = scale\n",
    "        self.augment = augment\n",
    "\n",
    "    def __len__(self):\n",
    "        return len(self.data)\n",
    "\n",
    "    def __getitem__(self, idx):\n",
    "        scene = self.data[idx]\n",
    "        # Getting 50 historical timestamps and 60 future timestamps\n",
    "        hist = scene[:, :50, :].copy()    # (agents=50, time_seq=50, 6)\n",
    "        future = torch.tensor(scene[0, 50:, :2].copy(), dtype=torch.float32)  # (60, 2)\n",
    "        \n",
    "        # Data augmentation(only for training)\n",
    "        if self.augment:\n",
    "            if np.random.rand() < 0.5:\n",
    "                theta = np.random.uniform(-np.pi, np.pi)\n",
    "                R = np.array([[np.cos(theta), -np.sin(theta)],\n",
    "                              [np.sin(theta),  np.cos(theta)]], dtype=np.float32)\n",
    "                # Rotate the historical trajectory and future trajectory\n",
    "                hist[..., :2] = hist[..., :2] @ R\n",
    "                hist[..., 2:4] = hist[..., 2:4] @ R\n",
    "                future = future @ R\n",
    "            if np.random.rand() < 0.5:\n",
    "                hist[..., 0] *= -1\n",
    "                hist[..., 2] *= -1\n",
    "                future[:, 0] *= -1\n",
    "\n",
    "        # Use the last timeframe of the historical trajectory as the origin\n",
    "        origin = hist[0, 49, :2].copy()  # (2,)\n",
    "        hist[..., :2] = hist[..., :2] - origin\n",
    "        future = future - origin\n",
    "\n",
    "        # Normalize the historical trajectory and future trajectory\n",
    "        hist[..., :4] = hist[..., :4] / self.scale\n",
    "        future = future / self.scale\n",
    "\n",
    "        data_item = Data(\n",
    "            x=torch.tensor(hist, dtype=torch.float32),\n",
    "            y=future.type(torch.float32),\n",
    "            origin=torch.tensor(origin, dtype=torch.float32).unsqueeze(0),\n",
    "            scale=torch.tensor(self.scale, dtype=torch.float32),\n",
    "        )\n",
    "\n",
    "        return data_item\n",
    "    \n",
    "\n",
    "class TrajectoryDatasetTest(Dataset):\n",
    "    def __init__(self, data, scale=10.0):\n",
    "        \"\"\"\n",
    "        data: Shape (N, 50, 110, 6) Testing data\n",
    "        scale: Scale for normalization (suggested to use 10.0 for Argoverse 2 data)\n",
    "        \"\"\"\n",
    "        self.data = data\n",
    "        self.scale = scale\n",
    "\n",
    "    def __len__(self):\n",
    "        return len(self.data)\n",
    "\n",
    "    def __getitem__(self, idx):\n",
    "        # Testing data only contains historical trajectory\n",
    "        scene = self.data[idx]  # (50, 50, 6)\n",
    "        hist = scene.copy()\n",
    "        \n",
    "        origin = hist[0, 49, :2].copy()\n",
    "        hist[..., :2] = hist[..., :2] - origin\n",
    "        hist[..., :4] = hist[..., :4] / self.scale\n",
    "\n",
    "        data_item = Data(\n",
    "            x=torch.tensor(hist, dtype=torch.float32, device=device),\n",
    "            origin=torch.tensor(origin, dtype=torch.float32, device=device).unsqueeze(0),\n",
    "            scale=torch.tensor(self.scale, dtype=torch.float32, device=device),\n",
    "        )\n",
    "        return data_item"
   ]
  },
  {
   "cell_type": "code",
   "execution_count": 4,
   "metadata": {},
   "outputs": [],
   "source": [
    "torch.manual_seed(251)\n",
    "np.random.seed(42)\n",
    "\n",
    "scale = 7.0\n",
    "\n",
    "# N = len(train_data)\n",
    "# val_size = int(0.1 * N)\n",
    "# train_size = N - val_size\n",
    "\n",
    "train_dataset = TrajectoryDatasetTrain(train_data, scale=scale, augment=True)\n",
    "val_dataset = TrajectoryDatasetTrain(val_data, scale=scale, augment=False)\n",
    "\n",
    "train_dataloader = DataLoader(train_dataset, batch_size=32, shuffle=True, collate_fn=lambda x: Batch.from_data_list(x))\n",
    "val_dataloader = DataLoader(val_dataset, batch_size=32, shuffle=False, collate_fn=lambda x: Batch.from_data_list(x))"
   ]
  },
  {
   "cell_type": "code",
   "execution_count": 5,
   "metadata": {},
   "outputs": [
    {
     "name": "stdout",
     "output_type": "stream",
     "text": [
      "(8000, 50, 110, 6)\n",
      "torch.Size([8000, 50, 110, 8])\n"
     ]
    },
    {
     "data": {
      "text/plain": [
       "(8000, 50, 110, 5)"
      ]
     },
     "execution_count": 5,
     "metadata": {},
     "output_type": "execute_result"
    }
   ],
   "source": [
    "test = nn.Embedding(10, embedding_dim = 8)\n",
    "ids = torch.from_numpy(train_data[:,:,:,5]).long()\n",
    "print(train_data.shape)\n",
    "print(test(ids).shape)\n",
    "train_data[:,:,:,:5].shape"
   ]
  },
  {
   "cell_type": "code",
   "execution_count": 6,
   "metadata": {},
   "outputs": [
    {
     "data": {
      "text/plain": [
       "(5, 11, 2)"
      ]
     },
     "execution_count": 6,
     "metadata": {},
     "output_type": "execute_result"
    }
   ],
   "source": [
    "test = np.zeros((5,10,2))\n",
    "tests = np.ones((5,2))\n",
    "np.concatenate([test,tests[:,np.newaxis,:]],axis=1).shape"
   ]
  },
  {
   "cell_type": "code",
   "execution_count": 28,
   "metadata": {},
   "outputs": [],
   "source": [
    "MAX_LENGTH = 60\n",
    "\n",
    "class Encoder(nn.Module):\n",
    "    def __init__(self, input_size, hidden_size,embedding_size):\n",
    "        super(Encoder, self).__init__()\n",
    "        self.embeddings = nn.Embedding(10, embedding_dim=embedding_size)\n",
    "        self.fc1 = nn.Linear(5+embedding_size,hidden_size)\n",
    "        self.LSTM1 = nn.LSTM(hidden_size, hidden_size, batch_first=True)\n",
    "        self.fc2 = nn.Linear(hidden_size,hidden_size)\n",
    "        self.LSTM2 = nn.LSTM(hidden_size, hidden_size, batch_first=True)\n",
    "        self.leakyRelu = nn.LeakyReLU()\n",
    "        \n",
    "        self.drop1 = nn.Dropout(p=0.1)\n",
    "        self.drop2 = nn.Dropout(p=0.3)\n",
    "        \n",
    "    def forward(self, input):\n",
    "        input = input.reshape(-1, 50, 50, 6)\n",
    "        input = input[:,0,:,:]\n",
    "        ids = input[:,:,5].long()\n",
    "        embeddings = self.embeddings(ids)\n",
    "        embinput = torch.cat([input[:,:,:5],embeddings], dim=-1)\n",
    "        #embinput = embinput.view(embinput.shape[0]*embinput.shape[1],embinput.shape[2],embinput.shape[3])\n",
    "        \n",
    "        d1 = self.fc1(embinput)\n",
    "        rd1 = self.leakyRelu (d1)\n",
    "        droppedrd1 = self.drop1(rd1)\n",
    "\n",
    "        l1, states = self.LSTM1(droppedrd1)\n",
    "        d2 = self.fc2(l1)\n",
    "        rd2 =self.leakyRelu (d2)\n",
    "        droppedrd2 = self.drop2(rd2)\n",
    "\n",
    "        out, hidden = self.LSTM2(droppedrd2)\n",
    "        \n",
    "        #input = input.reshape(-1, 50, 50, 6)\n",
    "        #input = input[:,0,:,:]\n",
    "        \n",
    "        #out, hidden = self.gru(input)\n",
    "        #out = self.drop(out)\n",
    "        return out, states, hidden#,embeddings (future testing)\n",
    "\"\"\"\n",
    "class Attention(nn.Module):\n",
    "    def __init__(self, hidden_size):\n",
    "        super().__init__()\n",
    "        self.attn = nn.Linear(hidden_size*2,hidden_size,128)\n",
    "        self.v = nn.Parameter(torch.rand(hidden_size))\n",
    "\n",
    "    def forward(self, hidden, encoder_outputs):\n",
    "        # hidden: (batch, dec_hidden)\n",
    "        # encoder_outputs: (batch, seq_len, enc_hidden)\n",
    "\n",
    "        seq_len = encoder_outputs.size(1)\n",
    "        \n",
    "        hidden = hidden[-1].squeeze().unsqueeze(1).repeat(1, seq_len, 1)  # (batch, seq_len, dec_hidden)\n",
    "\n",
    "        energy = torch.tanh(self.attn(torch.cat((hidden, encoder_outputs), dim=2)))  # (batch, seq_len, dec_hidden)\n",
    "        energy = energy.transpose(1, 2)  # (batch, dec_hidden, seq_len)\n",
    "\n",
    "        v = self.v.unsqueeze(0).unsqueeze(1)  # (1, 1, dec_hidden)\n",
    "        v = v.repeat(encoder_outputs.size(0), 1, 1)  # (batch, 1, dec_hidden)\n",
    "\n",
    "        attention_weights = torch.bmm(v, energy).squeeze(1)  # (batch, seq_len)\n",
    "        return torch.softmax(attention_weights, dim=1)\n",
    "\"\"\"\n",
    "class Decoder(nn.Module):\n",
    "    def __init__(self, hidden_size, output_size):\n",
    "        super(Decoder, self).__init__()\n",
    "        #self.Attention = Attention(hidden_size)\n",
    "        self.LSTM1 = nn.LSTM(output_size, hidden_size, batch_first=True)\n",
    "        self.fc1 = nn.Linear(hidden_size, hidden_size)\n",
    "        self.LSTM2 = nn.LSTM(hidden_size, hidden_size, batch_first=True)\n",
    "        self.fc2 = nn.Linear(hidden_size, output_size)\n",
    "        self.drop1 = nn.Dropout(p=0.15)\n",
    "        self.leakyRelu = nn.LeakyReLU()\n",
    "        \n",
    "        #self.drop2 = nn.Dropout(p=0.1)\n",
    "\n",
    "    def forward(self, input, encoder_hidden1,encoder_hidden2):\n",
    "        #print(input.shape)\n",
    "        input = input.reshape(-1, 50, 50, 6)\n",
    "        #print(input.shape)\n",
    "        \n",
    "        decoder_input = input[:,0,-1,:2].unsqueeze(1)\n",
    "        #decoder_input = input[:, -1:, :2]#[:,0,-1,:2].unsqueeze(1)\n",
    "        #oriput = input#t[:,0,:,:2]\n",
    "        \n",
    "        #print(decoder_input.shape,\"dec\")\n",
    "        \n",
    "        #attn_weights = self.Attention(encoder_hidden2[0], oriput)  # (batch, seq_len)\n",
    "        #context = torch.bmm(attn_weights.unsqueeze(1), oriput)  # (batch, 1, enc_hidden)\n",
    "        #other types of pooling, max/attention test?\n",
    "        decoder_hidden1 = encoder_hidden1#(encoder_hidden1[0].view(1,-1,50,256).mean(dim=2),encoder_hidden1[1].view(1,-1,50,256).mean(dim=2))\n",
    "        decoder_hidden2 =encoder_hidden2 #(encoder_hidden2[0].view(1,-1,50,256).mean(dim=2),encoder_hidden2[1].view(1,-1,50,256).mean(dim=2))\n",
    "        decoder_outputs = []\n",
    "\n",
    "        #print(decoder_hidden1[0].shape,encoder_hidden1[0].view(-1,50,256).shape)\n",
    "        for i in range(MAX_LENGTH):\n",
    "            decoder_out, decoder_hidden1,decoder_hidden2  = self.forward_step(decoder_input, decoder_hidden1,decoder_hidden2)\n",
    "            decoder_outputs.append(decoder_out)\n",
    "\n",
    "            \n",
    "            #attn_weights = self.Attention(decoder_hidden2[0], oriput)  # (batch, seq_len)\n",
    "            #context = torch.bmm(attn_weights.unsqueeze(1), oriput)  # (batch, 1, enc_hidden)\n",
    "            decoder_input = decoder_out.detach() # detach from history as input\n",
    "           \n",
    "        decoder_outputs = torch.cat(decoder_outputs, dim=1)\n",
    "        return decoder_outputs\n",
    "        \n",
    "    def forward_step(self, input, hidden1,hidden2):\n",
    "        #print(\"input\",input.shape)\n",
    "\n",
    "\n",
    "        # Concatenate context with input\n",
    "        #rnn_input = torch.cat((input, context), dim=2)  # (batch, 1, output+enc_hidden)\n",
    "        #print(rnn_input.shape)\n",
    "        out, states = self.LSTM1(input, hidden1)\n",
    "        out = self.fc1(out)\n",
    "        out = self.leakyRelu (out)\n",
    "        out = self.drop1(out)\n",
    "        out, hidden = self.LSTM2(out, hidden2)\n",
    "        out = self.fc2(out)\n",
    "        #out = self.drop2(out)\n",
    "        \n",
    "        return out,states, hidden"
   ]
  },
  {
   "cell_type": "code",
   "execution_count": 29,
   "metadata": {},
   "outputs": [
    {
     "name": "stderr",
     "output_type": "stream",
     "text": [
      "100%|████████████████████████████████████████████████████████████████████████████████| 250/250 [18:20<00:00,  4.40s/it]\n"
     ]
    },
    {
     "name": "stdout",
     "output_type": "stream",
     "text": [
      "Epoch 1, Train Loss: 5.3554\n",
      "Validation Loss: 3.2724 Validation MSE: 160.3467\n"
     ]
    },
    {
     "name": "stderr",
     "output_type": "stream",
     "text": [
      "100%|████████████████████████████████████████████████████████████████████████████████| 250/250 [16:06<00:00,  3.86s/it]\n"
     ]
    },
    {
     "name": "stdout",
     "output_type": "stream",
     "text": [
      "Epoch 2, Train Loss: 1.8964\n",
      "Validation Loss: 0.7594 Validation MSE: 37.2120\n"
     ]
    },
    {
     "name": "stderr",
     "output_type": "stream",
     "text": [
      "100%|████████████████████████████████████████████████████████████████████████████████| 250/250 [16:38<00:00,  3.99s/it]\n"
     ]
    },
    {
     "name": "stdout",
     "output_type": "stream",
     "text": [
      "Epoch 3, Train Loss: 0.6926\n",
      "Validation Loss: 0.5938 Validation MSE: 29.0957\n"
     ]
    },
    {
     "name": "stderr",
     "output_type": "stream",
     "text": [
      "100%|████████████████████████████████████████████████████████████████████████████████| 250/250 [17:15<00:00,  4.14s/it]\n"
     ]
    },
    {
     "name": "stdout",
     "output_type": "stream",
     "text": [
      "Epoch 4, Train Loss: 0.5403\n",
      "Validation Loss: 0.6183 Validation MSE: 30.2957\n"
     ]
    },
    {
     "name": "stderr",
     "output_type": "stream",
     "text": [
      "100%|████████████████████████████████████████████████████████████████████████████████| 250/250 [16:22<00:00,  3.93s/it]\n"
     ]
    },
    {
     "name": "stdout",
     "output_type": "stream",
     "text": [
      "Epoch 5, Train Loss: 0.4976\n",
      "Validation Loss: 0.4694 Validation MSE: 23.0002\n"
     ]
    },
    {
     "name": "stderr",
     "output_type": "stream",
     "text": [
      "100%|████████████████████████████████████████████████████████████████████████████████| 250/250 [15:40<00:00,  3.76s/it]\n"
     ]
    },
    {
     "name": "stdout",
     "output_type": "stream",
     "text": [
      "Epoch 6, Train Loss: 0.4628\n",
      "Validation Loss: 0.4199 Validation MSE: 20.5773\n"
     ]
    },
    {
     "name": "stderr",
     "output_type": "stream",
     "text": [
      "100%|████████████████████████████████████████████████████████████████████████████████| 250/250 [17:21<00:00,  4.17s/it]\n"
     ]
    },
    {
     "name": "stdout",
     "output_type": "stream",
     "text": [
      "Epoch 7, Train Loss: 0.4203\n",
      "Validation Loss: 0.3708 Validation MSE: 18.1694\n"
     ]
    },
    {
     "name": "stderr",
     "output_type": "stream",
     "text": [
      "100%|████████████████████████████████████████████████████████████████████████████████| 250/250 [15:43<00:00,  3.77s/it]\n"
     ]
    },
    {
     "name": "stdout",
     "output_type": "stream",
     "text": [
      "Epoch 8, Train Loss: 0.3937\n",
      "Validation Loss: 0.4556 Validation MSE: 22.3244\n"
     ]
    },
    {
     "name": "stderr",
     "output_type": "stream",
     "text": [
      "100%|████████████████████████████████████████████████████████████████████████████████| 250/250 [13:18<00:00,  3.20s/it]\n"
     ]
    },
    {
     "name": "stdout",
     "output_type": "stream",
     "text": [
      "Epoch 9, Train Loss: 0.3896\n",
      "Validation Loss: 0.3583 Validation MSE: 17.5556\n"
     ]
    },
    {
     "name": "stderr",
     "output_type": "stream",
     "text": [
      "100%|████████████████████████████████████████████████████████████████████████████████| 250/250 [15:20<00:00,  3.68s/it]\n"
     ]
    },
    {
     "name": "stdout",
     "output_type": "stream",
     "text": [
      "Epoch 10, Train Loss: 0.3764\n",
      "Validation Loss: 0.5147 Validation MSE: 25.2204\n"
     ]
    },
    {
     "name": "stderr",
     "output_type": "stream",
     "text": [
      "100%|████████████████████████████████████████████████████████████████████████████████| 250/250 [19:30<00:00,  4.68s/it]\n"
     ]
    },
    {
     "name": "stdout",
     "output_type": "stream",
     "text": [
      "Epoch 11, Train Loss: 0.3701\n",
      "Validation Loss: 0.3478 Validation MSE: 17.0431\n"
     ]
    },
    {
     "name": "stderr",
     "output_type": "stream",
     "text": [
      "100%|████████████████████████████████████████████████████████████████████████████████| 250/250 [20:57<00:00,  5.03s/it]\n"
     ]
    },
    {
     "name": "stdout",
     "output_type": "stream",
     "text": [
      "Epoch 12, Train Loss: 0.3468\n",
      "Validation Loss: 0.3309 Validation MSE: 16.2118\n"
     ]
    },
    {
     "name": "stderr",
     "output_type": "stream",
     "text": [
      "100%|████████████████████████████████████████████████████████████████████████████████| 250/250 [17:22<00:00,  4.17s/it]\n"
     ]
    },
    {
     "name": "stdout",
     "output_type": "stream",
     "text": [
      "Epoch 13, Train Loss: 0.3492\n",
      "Validation Loss: 0.3501 Validation MSE: 17.1562\n"
     ]
    },
    {
     "name": "stderr",
     "output_type": "stream",
     "text": [
      "100%|████████████████████████████████████████████████████████████████████████████████| 250/250 [18:38<00:00,  4.47s/it]\n"
     ]
    },
    {
     "name": "stdout",
     "output_type": "stream",
     "text": [
      "Epoch 14, Train Loss: 0.3346\n",
      "Validation Loss: 0.3325 Validation MSE: 16.2920\n"
     ]
    },
    {
     "name": "stderr",
     "output_type": "stream",
     "text": [
      "100%|████████████████████████████████████████████████████████████████████████████████| 250/250 [08:27<00:00,  2.03s/it]\n"
     ]
    },
    {
     "name": "stdout",
     "output_type": "stream",
     "text": [
      "Epoch 15, Train Loss: 0.3633\n",
      "Validation Loss: 0.3720 Validation MSE: 18.2281\n"
     ]
    },
    {
     "name": "stderr",
     "output_type": "stream",
     "text": [
      "100%|████████████████████████████████████████████████████████████████████████████████| 250/250 [07:53<00:00,  1.90s/it]\n"
     ]
    },
    {
     "name": "stdout",
     "output_type": "stream",
     "text": [
      "Epoch 16, Train Loss: 0.3228\n",
      "Validation Loss: 0.3624 Validation MSE: 17.7588\n"
     ]
    },
    {
     "name": "stderr",
     "output_type": "stream",
     "text": [
      "100%|████████████████████████████████████████████████████████████████████████████████| 250/250 [25:32<00:00,  6.13s/it]\n"
     ]
    },
    {
     "name": "stdout",
     "output_type": "stream",
     "text": [
      "Epoch 17, Train Loss: 0.3111\n",
      "Validation Loss: 0.3514 Validation MSE: 17.2186\n"
     ]
    },
    {
     "name": "stderr",
     "output_type": "stream",
     "text": [
      "100%|████████████████████████████████████████████████████████████████████████████████| 250/250 [21:43<00:00,  5.21s/it]\n"
     ]
    },
    {
     "name": "stdout",
     "output_type": "stream",
     "text": [
      "Epoch 18, Train Loss: 0.3194\n",
      "Validation Loss: 0.3476 Validation MSE: 17.0334\n"
     ]
    },
    {
     "name": "stderr",
     "output_type": "stream",
     "text": [
      "100%|████████████████████████████████████████████████████████████████████████████████| 250/250 [21:52<00:00,  5.25s/it]\n"
     ]
    },
    {
     "name": "stdout",
     "output_type": "stream",
     "text": [
      "Epoch 19, Train Loss: 0.3135\n",
      "Validation Loss: 0.2824 Validation MSE: 13.8389\n"
     ]
    },
    {
     "name": "stderr",
     "output_type": "stream",
     "text": [
      "100%|████████████████████████████████████████████████████████████████████████████████| 250/250 [22:10<00:00,  5.32s/it]\n"
     ]
    },
    {
     "name": "stdout",
     "output_type": "stream",
     "text": [
      "Epoch 20, Train Loss: 0.3065\n",
      "Validation Loss: 0.3166 Validation MSE: 15.5131\n"
     ]
    },
    {
     "name": "stderr",
     "output_type": "stream",
     "text": [
      "100%|████████████████████████████████████████████████████████████████████████████████| 250/250 [22:00<00:00,  5.28s/it]\n"
     ]
    },
    {
     "name": "stdout",
     "output_type": "stream",
     "text": [
      "Epoch 21, Train Loss: 0.2545\n",
      "Validation Loss: 0.2631 Validation MSE: 12.8909\n"
     ]
    },
    {
     "name": "stderr",
     "output_type": "stream",
     "text": [
      "100%|████████████████████████████████████████████████████████████████████████████████| 250/250 [46:08<00:00, 11.07s/it]\n"
     ]
    },
    {
     "name": "stdout",
     "output_type": "stream",
     "text": [
      "Epoch 22, Train Loss: 0.2423\n",
      "Validation Loss: 0.2474 Validation MSE: 12.1203\n"
     ]
    },
    {
     "name": "stderr",
     "output_type": "stream",
     "text": [
      "100%|████████████████████████████████████████████████████████████████████████████████| 250/250 [21:17<00:00,  5.11s/it]\n"
     ]
    },
    {
     "name": "stdout",
     "output_type": "stream",
     "text": [
      "Epoch 23, Train Loss: 0.2389\n",
      "Validation Loss: 0.2439 Validation MSE: 11.9511\n"
     ]
    },
    {
     "name": "stderr",
     "output_type": "stream",
     "text": [
      "100%|████████████████████████████████████████████████████████████████████████████████| 250/250 [12:40<00:00,  3.04s/it]\n"
     ]
    },
    {
     "name": "stdout",
     "output_type": "stream",
     "text": [
      "Epoch 24, Train Loss: 0.2332\n",
      "Validation Loss: 0.2426 Validation MSE: 11.8866\n"
     ]
    },
    {
     "name": "stderr",
     "output_type": "stream",
     "text": [
      "100%|████████████████████████████████████████████████████████████████████████████████| 250/250 [16:56<00:00,  4.07s/it]\n"
     ]
    },
    {
     "name": "stdout",
     "output_type": "stream",
     "text": [
      "Epoch 25, Train Loss: 0.2325\n",
      "Validation Loss: 0.2441 Validation MSE: 11.9586\n"
     ]
    },
    {
     "name": "stderr",
     "output_type": "stream",
     "text": [
      "100%|████████████████████████████████████████████████████████████████████████████████| 250/250 [20:26<00:00,  4.91s/it]\n"
     ]
    },
    {
     "name": "stdout",
     "output_type": "stream",
     "text": [
      "Epoch 26, Train Loss: 0.2302\n",
      "Validation Loss: 0.2573 Validation MSE: 12.6067\n"
     ]
    },
    {
     "name": "stderr",
     "output_type": "stream",
     "text": [
      "100%|████████████████████████████████████████████████████████████████████████████████| 250/250 [21:23<00:00,  5.13s/it]\n"
     ]
    },
    {
     "name": "stdout",
     "output_type": "stream",
     "text": [
      "Epoch 27, Train Loss: 0.2291\n",
      "Validation Loss: 0.2416 Validation MSE: 11.8369\n"
     ]
    },
    {
     "name": "stderr",
     "output_type": "stream",
     "text": [
      "100%|████████████████████████████████████████████████████████████████████████████████| 250/250 [20:44<00:00,  4.98s/it]\n"
     ]
    },
    {
     "name": "stdout",
     "output_type": "stream",
     "text": [
      "Epoch 28, Train Loss: 0.2325\n",
      "Validation Loss: 0.2280 Validation MSE: 11.1732\n"
     ]
    },
    {
     "name": "stderr",
     "output_type": "stream",
     "text": [
      "100%|████████████████████████████████████████████████████████████████████████████████| 250/250 [18:56<00:00,  4.54s/it]\n"
     ]
    },
    {
     "name": "stdout",
     "output_type": "stream",
     "text": [
      "Epoch 29, Train Loss: 0.2266\n",
      "Validation Loss: 0.2438 Validation MSE: 11.9456\n"
     ]
    },
    {
     "name": "stderr",
     "output_type": "stream",
     "text": [
      "100%|████████████████████████████████████████████████████████████████████████████████| 250/250 [19:44<00:00,  4.74s/it]\n"
     ]
    },
    {
     "name": "stdout",
     "output_type": "stream",
     "text": [
      "Epoch 30, Train Loss: 0.2283\n",
      "Validation Loss: 0.2546 Validation MSE: 12.4773\n"
     ]
    },
    {
     "name": "stderr",
     "output_type": "stream",
     "text": [
      "100%|████████████████████████████████████████████████████████████████████████████████| 250/250 [21:01<00:00,  5.05s/it]\n"
     ]
    },
    {
     "name": "stdout",
     "output_type": "stream",
     "text": [
      "Epoch 31, Train Loss: 0.2208\n",
      "Validation Loss: 0.2238 Validation MSE: 10.9686\n"
     ]
    },
    {
     "name": "stderr",
     "output_type": "stream",
     "text": [
      "100%|████████████████████████████████████████████████████████████████████████████████| 250/250 [20:56<00:00,  5.03s/it]\n"
     ]
    },
    {
     "name": "stdout",
     "output_type": "stream",
     "text": [
      "Epoch 32, Train Loss: 0.2265\n",
      "Validation Loss: 0.2431 Validation MSE: 11.9137\n"
     ]
    },
    {
     "name": "stderr",
     "output_type": "stream",
     "text": [
      "100%|████████████████████████████████████████████████████████████████████████████████| 250/250 [21:25<00:00,  5.14s/it]\n"
     ]
    },
    {
     "name": "stdout",
     "output_type": "stream",
     "text": [
      "Epoch 33, Train Loss: 0.2213\n",
      "Validation Loss: 0.2194 Validation MSE: 10.7515\n"
     ]
    },
    {
     "name": "stderr",
     "output_type": "stream",
     "text": [
      "100%|████████████████████████████████████████████████████████████████████████████████| 250/250 [20:57<00:00,  5.03s/it]\n"
     ]
    },
    {
     "name": "stdout",
     "output_type": "stream",
     "text": [
      "Epoch 34, Train Loss: 0.2164\n",
      "Validation Loss: 0.2347 Validation MSE: 11.4991\n"
     ]
    },
    {
     "name": "stderr",
     "output_type": "stream",
     "text": [
      "100%|████████████████████████████████████████████████████████████████████████████████| 250/250 [21:40<00:00,  5.20s/it]\n"
     ]
    },
    {
     "name": "stdout",
     "output_type": "stream",
     "text": [
      "Epoch 35, Train Loss: 0.2200\n",
      "Validation Loss: 0.2329 Validation MSE: 11.4108\n"
     ]
    },
    {
     "name": "stderr",
     "output_type": "stream",
     "text": [
      "100%|████████████████████████████████████████████████████████████████████████████████| 250/250 [21:09<00:00,  5.08s/it]\n"
     ]
    },
    {
     "name": "stdout",
     "output_type": "stream",
     "text": [
      "Epoch 36, Train Loss: 0.2226\n",
      "Validation Loss: 0.2445 Validation MSE: 11.9804\n"
     ]
    },
    {
     "name": "stderr",
     "output_type": "stream",
     "text": [
      "100%|████████████████████████████████████████████████████████████████████████████████| 250/250 [20:47<00:00,  4.99s/it]\n"
     ]
    },
    {
     "name": "stdout",
     "output_type": "stream",
     "text": [
      "Epoch 37, Train Loss: 0.2122\n",
      "Validation Loss: 0.2253 Validation MSE: 11.0373\n"
     ]
    },
    {
     "name": "stderr",
     "output_type": "stream",
     "text": [
      "100%|████████████████████████████████████████████████████████████████████████████████| 250/250 [22:19<00:00,  5.36s/it]\n"
     ]
    },
    {
     "name": "stdout",
     "output_type": "stream",
     "text": [
      "Epoch 38, Train Loss: 0.2207\n",
      "Validation Loss: 0.2203 Validation MSE: 10.7929\n"
     ]
    },
    {
     "name": "stderr",
     "output_type": "stream",
     "text": [
      "100%|████████████████████████████████████████████████████████████████████████████████| 250/250 [21:07<00:00,  5.07s/it]\n"
     ]
    },
    {
     "name": "stdout",
     "output_type": "stream",
     "text": [
      "Epoch 39, Train Loss: 0.2124\n",
      "Validation Loss: 0.2196 Validation MSE: 10.7607\n"
     ]
    },
    {
     "name": "stderr",
     "output_type": "stream",
     "text": [
      "100%|████████████████████████████████████████████████████████████████████████████████| 250/250 [20:42<00:00,  4.97s/it]\n"
     ]
    },
    {
     "name": "stdout",
     "output_type": "stream",
     "text": [
      "Epoch 40, Train Loss: 0.2145\n",
      "Validation Loss: 0.2553 Validation MSE: 12.5120\n",
      "Best val loss 0.21941746250977592\n"
     ]
    }
   ],
   "source": [
    "input_size = 6\n",
    "hidden_size = 256\n",
    "output_size = 2\n",
    "embedding_size=8\n",
    "\n",
    "# Create the model\n",
    "encoder = Encoder(input_size, hidden_size,embedding_size).to(device)\n",
    "decoder = Decoder(hidden_size, output_size).to(device)\n",
    "\n",
    "# Define loss function and optimizer\n",
    "criterion = nn.MSELoss()  # For regression task\n",
    "\n",
    "encoder_optimizer = optim.Adam(encoder.parameters(), lr=0.001, weight_decay=1e-4)\n",
    "decoder_optimizer = optim.Adam(decoder.parameters(), lr=0.001, weight_decay=1e-4)\n",
    "\n",
    "encoder_scheduler = optim.lr_scheduler.StepLR(encoder_optimizer, step_size=20, gamma=0.25) # You can try different schedulers\n",
    "decoder_scheduler = optim.lr_scheduler.StepLR(decoder_optimizer, step_size=20, gamma=0.25) # You can try different schedulers\n",
    "\n",
    "early_stopping_patience = 10\n",
    "\n",
    "def get_val_loss(encoder, decoder, val_dataloader):\n",
    "    \n",
    "    encoder.eval()\n",
    "    decoder.eval()\n",
    "\n",
    "    total_val_loss = 0\n",
    "    total_val_mse = 0\n",
    "    \n",
    "    with torch.no_grad():\n",
    "        for batch in val_dataloader:\n",
    "            batch = batch.to(device)\n",
    "            \n",
    "            encoder_outputs, encoder_hidden, eh2 = encoder(batch.x)\n",
    "            pred = decoder(batch.x, encoder_hidden,eh2)\n",
    "            #pred = decoder(encoder_outputs, encoder_hidden,eh2)\n",
    "           \n",
    "            y = batch.y.view(batch.num_graphs, 60, 2)\n",
    "            #print(pred.shape)\n",
    "            total_val_loss += criterion(pred, y).item()\n",
    "\n",
    "            # show MSE with unnormalized data\n",
    "            pred = pred * batch.scale.view(-1, 1, 1) + batch.origin.unsqueeze(1)\n",
    "            y = y * batch.scale.view(-1, 1, 1) + batch.origin.unsqueeze(1)\n",
    "            total_val_mse += nn.MSELoss()(pred, y).item()\n",
    "            \n",
    "    val_loss = total_val_loss / len(val_dataloader)\n",
    "    val_mse = total_val_mse / len(val_dataloader)\n",
    "            \n",
    "    print(f'Validation Loss: {val_loss:.4f} Validation MSE: {val_mse:.4f}')\n",
    "    return val_loss, val_mse\n",
    "    \n",
    "def train_model(encoder, decoder, train_loader, val_loader, batch_size=64, epochs=10):\n",
    "\n",
    "    train_loss = []\n",
    "    val_loss = []\n",
    "    val_mse = []\n",
    "\n",
    "    best_val_loss = float('inf')\n",
    "    no_improvement = 0\n",
    "    \n",
    "    # Training loop\n",
    "    for epoch in range(epochs):\n",
    "        running_loss = 0.0\n",
    "        \n",
    "        for batch in tqdm.tqdm(train_loader):\n",
    "\n",
    "            batch = batch.to(device)\n",
    "\n",
    "            batch_X = batch.x\n",
    "            batch_y = batch.y.view(batch.num_graphs, 60, 2)\n",
    "            \n",
    "            # Zero the parameter gradients\n",
    "            encoder_optimizer.zero_grad()\n",
    "            decoder_optimizer.zero_grad()\n",
    "            \n",
    "            encoder_outputs, encoder_hidden1,encoder_hidden2 = encoder(batch_X)\n",
    "            decoder_outputs = decoder(batch_X, encoder_hidden1,encoder_hidden2)\n",
    "            #decoder_outputs = decoder(encoder_outputs, encoder_hidden1,encoder_hidden2)\n",
    "\n",
    "            # Calculate loss\n",
    "            loss = criterion(decoder_outputs, batch_y)\n",
    "            \n",
    "            # Backward pass and optimize\n",
    "            loss.backward()\n",
    "            encoder_optimizer.step()\n",
    "            decoder_optimizer.step()\n",
    "            \n",
    "            running_loss += loss.item()\n",
    "        \n",
    "        # Print epoch statistics\n",
    "        train_loss.append(running_loss/len(train_loader))\n",
    "        print(f'Epoch {epoch+1}, Train Loss: {running_loss/len(train_loader):.4f}')\n",
    "        \n",
    "        v_loss, v_mse = get_val_loss(encoder, decoder, val_loader)\n",
    "        val_loss.append(v_loss)\n",
    "        val_mse.append(v_mse)\n",
    "\n",
    "        encoder_scheduler.step()\n",
    "        decoder_scheduler.step()\n",
    "\n",
    "        if v_loss < best_val_loss - 1e-3:\n",
    "            best_val_loss = v_loss\n",
    "            no_improvement = 0\n",
    "            torch.save(encoder.state_dict(), \"encoder_best_model.pt\")\n",
    "            torch.save(decoder.state_dict(), \"decoder_best_model.pt\")\n",
    "        else:\n",
    "            no_improvement += 1\n",
    "            if no_improvement >= early_stopping_patience:\n",
    "                print(\"Early stop!\")\n",
    "                break\n",
    "                \n",
    "    print(\"Best val loss\", best_val_loss)\n",
    "    return train_loss, val_loss, val_mse\n",
    "\n",
    "train_loss, val_loss, val_mse = train_model(encoder, decoder, train_dataloader, val_dataloader, epochs=40)"
   ]
  },
  {
   "cell_type": "code",
   "execution_count": 30,
   "metadata": {},
   "outputs": [
    {
     "data": {
      "image/png": "[encoded data removed]",
      "text/plain": [
       "<Figure size 640x480 with 1 Axes>"
      ]
     },
     "metadata": {},
     "output_type": "display_data"
    }
   ],
   "source": [
    "import matplotlib.pyplot as plt\n",
    "\n",
    "plt.plot(train_loss, 'r', label='train loss')\n",
    "plt.plot(val_loss, 'b', label='val loss')\n",
    "#plt.plot(val_mse, 'g', label='val mse')\n",
    "plt.xlabel('epochs')\n",
    "plt.ylabel('loss')\n",
    "plt.title('loss vs epochs ')\n",
    "plt.legend()\n",
    "plt.savefig('seq2seq_loss_vs_epochs.png')"
   ]
  },
  {
   "cell_type": "code",
   "execution_count": 31,
   "metadata": {},
   "outputs": [
    {
     "data": {
      "image/png": "[encoded data removed]",
      "text/plain": [
       "<Figure size 640x480 with 1 Axes>"
      ]
     },
     "metadata": {},
     "output_type": "display_data"
    }
   ],
   "source": [
    "plt.plot(train_loss, 'r', label='val mse')\n",
    "plt.xlabel('epochs')\n",
    "plt.ylabel('mse')\n",
    "plt.title('mse vs epochs ')\n",
    "plt.legend()\n",
    "plt.savefig('seq2seq_val_mse_vs_epochs.png')"
   ]
  },
  {
   "cell_type": "code",
   "execution_count": null,
   "metadata": {},
   "outputs": [],
   "source": []
  },
  {
   "cell_type": "code",
   "execution_count": 90,
   "metadata": {},
   "outputs": [],
   "source": [
    "import random\n",
    "\n",
    "def plot_trajectory(ax, pred, gt, title=None):\n",
    "    ax.cla()\n",
    "    # Plot the predicted future trajectory\n",
    "    ax.plot(pred[0,:60,0], pred[0,:60,1], color='red', label='Predicted Future Trajectory')\n",
    "    \n",
    "    # Plot the ground truth future trajectory\n",
    "    ax.plot(gt[0,:60,0], gt[0,:60,1], color='blue', label='Ground Truth Future Trajectory')\n",
    "    \n",
    "    # Optionally set axis limits, labels, and title.\n",
    "    x_max = max(pred[..., 0].max(), gt[..., 0].max())\n",
    "    x_min = min(pred[..., 0].min(), gt[..., 0].min())\n",
    "    y_max = max(pred[..., 1].max(), gt[..., 1].max())\n",
    "    y_min = min(pred[..., 1].min(), gt[..., 1].min())\n",
    "    \n",
    "    ax.set_xlim(x_min, x_max)\n",
    "    ax.set_ylim(y_min, y_max)\n",
    "    ax.set_xlabel('X-axis')\n",
    "    ax.set_ylabel('Y-axis')\n",
    "    \n",
    "    if title:\n",
    "        ax.set_title(title)\n",
    "    \n",
    "    ax.legend()\n",
    "    ax.grid(True, linestyle='--', alpha=0.7)"
   ]
  },
  {
   "cell_type": "code",
   "execution_count": 119,
   "metadata": {},
   "outputs": [
    {
     "ename": "ValueError",
     "evalue": "too many values to unpack (expected 2)",
     "output_type": "error",
     "traceback": [
      "\u001b[1;31m---------------------------------------------------------------------------\u001b[0m",
      "\u001b[1;31mValueError\u001b[0m                                Traceback (most recent call last)",
      "Cell \u001b[1;32mIn[119], line 15\u001b[0m\n\u001b[0;32m     13\u001b[0m batch \u001b[38;5;241m=\u001b[39m val_dataset[idx]\n\u001b[0;32m     14\u001b[0m batch \u001b[38;5;241m=\u001b[39m batch\u001b[38;5;241m.\u001b[39mto(device)\n\u001b[1;32m---> 15\u001b[0m encoder_outputs, encoder_hidden \u001b[38;5;241m=\u001b[39m encoder(batch\u001b[38;5;241m.\u001b[39mx)\n\u001b[0;32m     16\u001b[0m pred \u001b[38;5;241m=\u001b[39m decoder(batch\u001b[38;5;241m.\u001b[39mx, encoder_hidden)\n\u001b[0;32m     18\u001b[0m gt \u001b[38;5;241m=\u001b[39m torch\u001b[38;5;241m.\u001b[39mstack(torch\u001b[38;5;241m.\u001b[39msplit(batch\u001b[38;5;241m.\u001b[39my, \u001b[38;5;241m60\u001b[39m, dim\u001b[38;5;241m=\u001b[39m\u001b[38;5;241m0\u001b[39m), dim\u001b[38;5;241m=\u001b[39m\u001b[38;5;241m0\u001b[39m)\n",
      "\u001b[1;31mValueError\u001b[0m: too many values to unpack (expected 2)"
     ]
    },
    {
     "data": {
      "image/png": "[encoded data removed]",
      "text/plain": [
       "<Figure size 2000x1000 with 4 Axes>"
      ]
     },
     "metadata": {},
     "output_type": "display_data"
    }
   ],
   "source": [
    "encoder.load_state_dict(torch.load(\"encoder_best_model.pt\"))\n",
    "decoder.load_state_dict(torch.load(\"decoder_best_model.pt\"))\n",
    "\n",
    "encoder.eval()\n",
    "decoder.eval()\n",
    "\n",
    "# randomly select 4 samples from the validation set\n",
    "random_indices = random.sample(range(len(val_dataset)), 4)\n",
    "fig, axes = plt.subplots(2, 2, figsize=(20, 10))\n",
    "axes = axes.flatten()  # Flatten the array to iterate single axes objects\n",
    "\n",
    "for i, idx in enumerate(random_indices):\n",
    "    batch = val_dataset[idx]\n",
    "    batch = batch.to(device)\n",
    "    encoder_outputs, encoder_hidden = encoder(batch.x)\n",
    "    pred = decoder(batch.x, encoder_hidden)\n",
    "    \n",
    "    gt = torch.stack(torch.split(batch.y, 60, dim=0), dim=0)\n",
    "    \n",
    "    pred = pred * batch.scale.view(-1, 1, 1) + batch.origin.unsqueeze(1)\n",
    "    gt = torch.stack(torch.split(batch.y, 60, dim=0), dim=0) * batch.scale.view(-1, 1, 1) + batch.origin.unsqueeze(1)\n",
    "\n",
    "    pred = pred.detach().cpu().numpy()\n",
    "    gt = gt.detach().cpu().numpy()\n",
    "\n",
    "    # Plot the trajectory using the i-th axis\n",
    "    plot_trajectory(axes[i], pred, gt, title=f\"Sample {idx}\")\n",
    "\n",
    "plt.savefig('seq2seq_pred_true_trajectories.png')\n",
    "plt.show()"
   ]
  },
  {
   "cell_type": "code",
   "execution_count": 319,
   "metadata": {},
   "outputs": [],
   "source": [
    "test_dataset = TrajectoryDatasetTest(test_data, scale=scale)\n",
    "test_loader = DataLoader(test_dataset, batch_size=32, shuffle=False,\n",
    "                         collate_fn=lambda xs: Batch.from_data_list(xs))\n",
    "\n",
    "encoder.load_state_dict(torch.load(\"encoder_best_model.pt\"))\n",
    "decoder.load_state_dict(torch.load(\"decoder_best_model.pt\"))\n",
    "\n",
    "encoder.eval()\n",
    "decoder.eval()\n",
    "\n",
    "pred_list = []\n",
    "with torch.no_grad():\n",
    "    for batch in test_loader:\n",
    "        batch = batch.to(device)\n",
    "        #pred_norm = model(batch)\n",
    "\n",
    "        encoder_outputs, encoder_hidden1, encoder_hidden2 = encoder(batch.x)\n",
    "        pred_norm = decoder(batch.x, encoder_hidden1,encoder_hidden2)\n",
    "        \n",
    "        # Reshape the prediction to (N, 60, 2)\n",
    "        pred = pred_norm * batch.scale.view(-1,1,1) + batch.origin.unsqueeze(1)\n",
    "        pred_list.append(pred.cpu().numpy())\n",
    "pred_list = np.concatenate(pred_list, axis=0)  # (N,60,2)\n",
    "pred_output = pred_list.reshape(-1, 2)  # (N*60, 2)\n",
    "output_df = pd.DataFrame(pred_output, columns=['x', 'y'])\n",
    "output_df.index.name = 'index'\n",
    "output_df.to_csv('randominprogressattempt.csv', index=True)"
   ]
  },
  {
   "cell_type": "code",
   "execution_count": null,
   "metadata": {},
   "outputs": [],
   "source": []
  }
 ],
 "metadata": {
  "kaggle": {
   "accelerator": "none",
   "dataSources": [],
   "isGpuEnabled": false,
   "isInternetEnabled": false,
   "language": "python",
   "sourceType": "notebook"
  },
  "kernelspec": {
   "display_name": "Python 3 (ipykernel)",
   "language": "python",
   "name": "python3"
  },
  "language_info": {
   "codemirror_mode": {
    "name": "ipython",
    "version": 3
   },
   "file_extension": ".py",
   "mimetype": "text/x-python",
   "name": "python",
   "nbconvert_exporter": "python",
   "pygments_lexer": "ipython3",
   "version": "3.10.16"
  },
  "papermill": {
   "default_parameters": {},
   "duration": 27.524611,
   "end_time": "2025-04-01T17:39:42.223757",
   "environment_variables": {},
   "exception": null,
   "input_path": "__notebook__.ipynb",
   "output_path": "__notebook__.ipynb",
   "parameters": {},
   "start_time": "2025-04-01T17:39:14.699146",
   "version": "2.6.0"
  }
 },
 "nbformat": 4,
 "nbformat_minor": 4
}
