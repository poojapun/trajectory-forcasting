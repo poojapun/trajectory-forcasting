{
 "cells": [
  {
   "cell_type": "code",
   "execution_count": 1,
   "metadata": {
    "execution": {
     "iopub.execute_input": "2025-05-10T09:28:08.201570Z",
     "iopub.status.busy": "2025-05-10T09:28:08.201266Z",
     "iopub.status.idle": "2025-05-10T09:28:14.544548Z",
     "shell.execute_reply": "2025-05-10T09:28:14.543542Z",
     "shell.execute_reply.started": "2025-05-10T09:28:08.201546Z"
    },
    "trusted": true
   },
   "outputs": [],
   "source": [
    "import numpy as np\n",
    "import torch\n",
    "import torch.nn as nn\n",
    "from torch.utils.data import Dataset, DataLoader, random_split\n",
    "import pandas as pd\n",
    "from tqdm import tqdm"
   ]
  },
  {
   "cell_type": "code",
   "execution_count": 12,
   "metadata": {
    "execution": {
     "iopub.execute_input": "2025-05-10T10:05:21.657337Z",
     "iopub.status.busy": "2025-05-10T10:05:21.657059Z",
     "iopub.status.idle": "2025-05-10T10:05:21.663618Z",
     "shell.execute_reply": "2025-05-10T10:05:21.662846Z",
     "shell.execute_reply.started": "2025-05-10T10:05:21.657317Z"
    },
    "trusted": true
   },
   "outputs": [],
   "source": [
    "DEVICE = 'cuda' if torch.cuda.is_available() else 'cpu'\n",
    "HIST_LEN = 50\n",
    "FUTURE_LEN = 60\n",
    "TRAIN_RATIO = 0.9   \n",
    "BATCH_SIZE = 64\n",
    "EPOCHS = 15\n",
    "LR = 1e-4\n",
    "SEED = 42\n",
    "SOCIAL_GRID_SIZE = 64\n",
    "SOCIAL_FEATURE_SIZE = 128\n",
    "torch.manual_seed(SEED)\n",
    "np.random.seed(SEED)"
   ]
  },
  {
   "cell_type": "code",
   "execution_count": null,
   "metadata": {
    "execution": {
     "iopub.execute_input": "2025-05-10T09:28:14.562566Z",
     "iopub.status.busy": "2025-05-10T09:28:14.562306Z",
     "iopub.status.idle": "2025-05-10T09:28:14.576802Z",
     "shell.execute_reply": "2025-05-10T09:28:14.575934Z",
     "shell.execute_reply.started": "2025-05-10T09:28:14.562545Z"
    },
    "trusted": true
   },
   "outputs": [],
   "source": [
    "# === DATASET ===\n",
    "class TrajectoryDataset(Dataset):\n",
    "    def __init__(self, data, train=True, pos_mean=None, pos_std=None, vel_mean=None, vel_std=None):\n",
    "        self.data = data\n",
    "        self.train = train\n",
    "        self.pos_mean = pos_mean\n",
    "        self.pos_std = pos_std\n",
    "        self.vel_mean = vel_mean\n",
    "        self.vel_std = vel_std\n",
    "\n",
    "    def __len__(self):\n",
    "        return len(self.data)\n",
    "\n",
    "    def __getitem__(self, idx):\n",
    "        scene = self.data[idx]  \n",
    "        # Extract features for all agents\n",
    "        positions = scene[:, :HIST_LEN, :2]  # (50, T, 2)\n",
    "        velocities = scene[:, :HIST_LEN, 2:4]  # (50, T, 2)\n",
    "        headings = scene[:, :HIST_LEN, 4]  # (50, T)\n",
    "        \n",
    "        # Normalize positions and velocities\n",
    "        if self.pos_mean is not None and self.pos_std is not None:\n",
    "            pos_mask = ~(positions == 0).all(axis=2, keepdims=True)\n",
    "            positions = (positions - self.pos_mean) / (self.pos_std + 1e-6)\n",
    "            positions = positions * pos_mask\n",
    "        \n",
    "        if self.vel_mean is not None and self.vel_std is not None:\n",
    "            vel_mask = ~(velocities == 0).all(axis=2, keepdims=True)\n",
    "            velocities = (velocities - self.vel_mean) / (self.vel_std + 1e-6)\n",
    "            velocities = velocities * vel_mask\n",
    "            \n",
    "        # Convert heading to sine/cosine\n",
    "        sin_head = np.sin(headings)[..., None]  # (50, T, 1)\n",
    "        cos_head = np.cos(headings)[..., None]  # (50, T, 1)\n",
    "    \n",
    "        # Combine features\n",
    "        hist = np.concatenate([\n",
    "            positions,\n",
    "            velocities,\n",
    "            sin_head,\n",
    "            cos_head\n",
    "        ], axis=-1)  # (50, T, 2+2+1+1+4=10)\n",
    "        \n",
    "        if self.train:\n",
    "            # Get ego's future trajectory\n",
    "            future = scene[0, HIST_LEN:HIST_LEN+FUTURE_LEN, :2]\n",
    "            if self.pos_mean is not None and self.pos_std is not None:\n",
    "                future_mask = ~(future == 0).all(axis=1, keepdims=True)\n",
    "                future = (future - self.pos_mean) / (self.pos_std + 1e-6)\n",
    "                future = future * future_mask\n",
    "                \n",
    "            return hist.astype(np.float32), future.astype(np.float32)\n",
    "        \n",
    "        return hist.astype(np.float32)"
   ]
  },
  {
   "cell_type": "code",
   "execution_count": null,
   "metadata": {
    "execution": {
     "iopub.execute_input": "2025-05-10T11:02:47.667003Z",
     "iopub.status.busy": "2025-05-10T11:02:47.666247Z",
     "iopub.status.idle": "2025-05-10T11:02:47.679805Z",
     "shell.execute_reply": "2025-05-10T11:02:47.678903Z",
     "shell.execute_reply.started": "2025-05-10T11:02:47.666979Z"
    },
    "trusted": true
   },
   "outputs": [],
   "source": [
    "class Encoder(nn.Module):\n",
    "    def __init__(self, input_dim=6, hidden_dim=64, num_layers=1):\n",
    "        super().__init__()\n",
    "        self.lstm = nn.LSTM(input_dim, hidden_dim, batch_first=True, num_layers=num_layers)\n",
    "\n",
    "    def forward(self, x):  \n",
    "        B, A, T, D = x.shape\n",
    "        x = x.view(B * A, T, D)\n",
    "        _, (h, _) = self.lstm(x)\n",
    "        h = h[-1]  \n",
    "        return h.view(B, A, -1)  \n",
    "\n",
    "class Decoder(nn.Module):\n",
    "\n",
    "    def __init__(self, hidden_dim=128, out_dim=2):\n",
    "        super().__init__()\n",
    "        self.lstm = nn.LSTM(hidden_dim, 64, batch_first=True)\n",
    "        self.fc = nn.Linear(64, out_dim)\n",
    "\n",
    "    def forward(self, h):\n",
    "        h = h.unsqueeze(1).repeat(1, FUTURE_LEN, 1)  \n",
    "        out, _ = self.lstm(h)\n",
    "        return self.fc(out)\n",
    "\n",
    "\n",
    "class SocialPooling(nn.Module):\n",
    "    def __init__(self, hidden_dim=64, out_dim=128):\n",
    "        super().__init__()\n",
    "        self.fc = nn.Sequential(\n",
    "            nn.Linear(hidden_dim, out_dim),\n",
    "            nn.ReLU(),\n",
    "            nn.Linear(out_dim, out_dim)\n",
    "        )\n",
    "\n",
    "    def forward(self, h, positions=None):\n",
    "        social_feat = h.mean(dim=1)  \n",
    "        return self.fc(social_feat)  \n",
    "\n",
    "class Generator(nn.Module):\n",
    "    def __init__(self):\n",
    "        super().__init__()\n",
    "        self.encoder = Encoder()\n",
    "        self.pooling = SocialPooling()\n",
    "        self.decoder = Decoder(hidden_dim=SOCIAL_FEATURE_SIZE)\n",
    "\n",
    "    def forward(self, x):\n",
    "        encoded = self.encoder(x)  # (B, A, H)\n",
    "        last_pos = x[:, :, -1, :]  # (B, A, 2)\n",
    "        pooled = self.pooling(encoded, last_pos)  # grid-based pooling\n",
    "        pred = self.decoder(pooled)  # (B, 60, 2)\n",
    "        return pred\n",
    "\n",
    "class Discriminator(nn.Module):\n",
    "    def __init__(self):\n",
    "        super().__init__()\n",
    "        self.model = nn.Sequential(\n",
    "            nn.Linear(FUTURE_LEN * 2, 128),\n",
    "            nn.ReLU(),\n",
    "            nn.Linear(128, 64),\n",
    "            nn.ReLU(),\n",
    "            nn.Linear(64, 1),\n",
    "            nn.Sigmoid()\n",
    "        )\n",
    "\n",
    "    def forward(self, traj):\n",
    "        return self.model(traj.view(traj.size(0), -1))"
   ]
  },
  {
   "cell_type": "code",
   "execution_count": null,
   "metadata": {
    "execution": {
     "iopub.execute_input": "2025-05-10T11:02:53.981071Z",
     "iopub.status.busy": "2025-05-10T11:02:53.980728Z",
     "iopub.status.idle": "2025-05-10T11:02:53.992079Z",
     "shell.execute_reply": "2025-05-10T11:02:53.991232Z",
     "shell.execute_reply.started": "2025-05-10T11:02:53.981047Z"
    },
    "trusted": true
   },
   "outputs": [],
   "source": [
    "# === TRAINING ===\n",
    "def train_model(generator, discriminator, train_loader, val_loader, pos_mean, pos_std, epochs=10, lr=1e-3):\n",
    "    g_opt = torch.optim.Adam(generator.parameters(), lr=lr)\n",
    "    d_opt = torch.optim.Adam(discriminator.parameters(), lr=lr)\n",
    "    mse_loss = nn.MSELoss()\n",
    "    bce_loss = nn.BCELoss()\n",
    "\n",
    "    for epoch in range(epochs):\n",
    "        generator.train()\n",
    "        discriminator.train()\n",
    "        total_g_loss = 0\n",
    "        total_d_loss = 0\n",
    "\n",
    "        for hist, future in tqdm(train_loader, desc=f\"[Epoch {epoch+1}] Training\"):\n",
    "            hist, future = hist.to(DEVICE), future.to(DEVICE)\n",
    "\n",
    "            # === Train Discriminator ===\n",
    "            real_out = discriminator(future)\n",
    "            fake_traj = generator(hist).detach()\n",
    "            fake_out = discriminator(fake_traj)\n",
    "\n",
    "            real_label = torch.ones_like(real_out)\n",
    "            fake_label = torch.zeros_like(fake_out)\n",
    "\n",
    "            d_loss = bce_loss(real_out, real_label) + bce_loss(fake_out, fake_label)\n",
    "            d_opt.zero_grad()\n",
    "            d_loss.backward()\n",
    "            d_opt.step()\n",
    "\n",
    "            # === Train Generator ===\n",
    "            fake_traj = generator(hist)\n",
    "            pred_out = discriminator(fake_traj)\n",
    "\n",
    "            adv_loss = bce_loss(pred_out, torch.ones_like(pred_out))\n",
    "            #l2_loss = mse_loss(fake_traj, future)\n",
    "            pred_real = fake_traj * (pos_std + 1e-6) + pos_mean\n",
    "            future_real = future * (pos_std + 1e-6) + pos_mean\n",
    "            l2_loss = mse_loss(pred_real, future_real)\n",
    "            g_loss = adv_loss + l2_loss\n",
    "\n",
    "            g_opt.zero_grad()\n",
    "            g_loss.backward()\n",
    "            g_opt.step()\n",
    "\n",
    "            total_g_loss += l2_loss.item()\n",
    "            total_d_loss += d_loss.item()\n",
    "\n",
    "        avg_train_mse = total_g_loss / len(train_loader)\n",
    "\n",
    "        # === Validation ===\n",
    "        generator.eval()\n",
    "        val_loss = 0\n",
    "        with torch.no_grad():\n",
    "            for hist, future in val_loader:\n",
    "                hist, future = hist.to(DEVICE), future.to(DEVICE)\n",
    "                pred = generator(hist)\n",
    "                pred_real = pred * (pos_std + 1e-6) + pos_mean\n",
    "                future_real = future * (pos_std + 1e-6) + pos_mean\n",
    "                val_loss += mse_loss(pred_real, future_real).item()\n",
    "\n",
    "        avg_val_mse = val_loss / len(val_loader)\n",
    "        print(f\"Epoch {epoch+1}: Train MSE = {avg_train_mse:.4f}, Val MSE = {avg_val_mse:.4f}, D Loss = {total_d_loss / len(train_loader):.4f}\")\n"
   ]
  },
  {
   "cell_type": "code",
   "execution_count": 6,
   "metadata": {
    "execution": {
     "iopub.execute_input": "2025-05-10T09:28:14.619896Z",
     "iopub.status.busy": "2025-05-10T09:28:14.619521Z",
     "iopub.status.idle": "2025-05-10T09:28:14.638774Z",
     "shell.execute_reply": "2025-05-10T09:28:14.637700Z",
     "shell.execute_reply.started": "2025-05-10T09:28:14.619842Z"
    },
    "trusted": true
   },
   "outputs": [],
   "source": [
    "# === INFERENCE ===\n",
    "def predict(generator, dataloader):\n",
    "    generator.eval()\n",
    "    all_preds = []\n",
    "    with torch.no_grad():\n",
    "        for hist in tqdm(dataloader, desc=\"Predicting\"):\n",
    "            hist = hist.to(DEVICE)\n",
    "            pred = generator(hist)\n",
    "            all_preds.append(pred.cpu().numpy())\n",
    "\n",
    "    return np.concatenate(all_preds, axis=0)"
   ]
  },
  {
   "cell_type": "code",
   "execution_count": null,
   "metadata": {
    "execution": {
     "iopub.execute_input": "2025-05-10T11:03:54.807382Z",
     "iopub.status.busy": "2025-05-10T11:03:54.807078Z",
     "iopub.status.idle": "2025-05-10T11:47:38.372220Z",
     "shell.execute_reply": "2025-05-10T11:47:38.371322Z",
     "shell.execute_reply.started": "2025-05-10T11:03:54.807360Z"
    },
    "trusted": true
   },
   "outputs": [
    {
     "name": "stderr",
     "output_type": "stream",
     "text": [
      "[Epoch 1] Training: 100%|██████████| 141/141 [02:45<00:00,  1.18s/it]\n"
     ]
    },
    {
     "name": "stdout",
     "output_type": "stream",
     "text": [
      "Epoch 1: Train MSE = 5734515.2004, Val MSE = 2381630.1328, D Loss = 1.1942\n"
     ]
    },
    {
     "name": "stderr",
     "output_type": "stream",
     "text": [
      "[Epoch 2] Training: 100%|██████████| 141/141 [02:49<00:00,  1.20s/it]\n"
     ]
    },
    {
     "name": "stdout",
     "output_type": "stream",
     "text": [
      "Epoch 2: Train MSE = 2207936.6933, Val MSE = 1752255.6719, D Loss = 0.9646\n"
     ]
    },
    {
     "name": "stderr",
     "output_type": "stream",
     "text": [
      "[Epoch 3] Training: 100%|██████████| 141/141 [02:49<00:00,  1.20s/it]\n"
     ]
    },
    {
     "name": "stdout",
     "output_type": "stream",
     "text": [
      "Epoch 3: Train MSE = 1322323.6348, Val MSE = 709543.1836, D Loss = 1.0410\n"
     ]
    },
    {
     "name": "stderr",
     "output_type": "stream",
     "text": [
      "[Epoch 4] Training: 100%|██████████| 141/141 [02:48<00:00,  1.20s/it]\n"
     ]
    },
    {
     "name": "stdout",
     "output_type": "stream",
     "text": [
      "Epoch 4: Train MSE = 632634.5268, Val MSE = 513196.2793, D Loss = 1.0527\n"
     ]
    },
    {
     "name": "stderr",
     "output_type": "stream",
     "text": [
      "[Epoch 5] Training: 100%|██████████| 141/141 [02:49<00:00,  1.20s/it]\n"
     ]
    },
    {
     "name": "stdout",
     "output_type": "stream",
     "text": [
      "Epoch 5: Train MSE = 472072.4366, Val MSE = 409749.0488, D Loss = 0.7491\n"
     ]
    },
    {
     "name": "stderr",
     "output_type": "stream",
     "text": [
      "[Epoch 6] Training: 100%|██████████| 141/141 [02:52<00:00,  1.22s/it]\n"
     ]
    },
    {
     "name": "stdout",
     "output_type": "stream",
     "text": [
      "Epoch 6: Train MSE = 367460.1175, Val MSE = 326754.9316, D Loss = 0.4960\n"
     ]
    },
    {
     "name": "stderr",
     "output_type": "stream",
     "text": [
      "[Epoch 7] Training: 100%|██████████| 141/141 [02:51<00:00,  1.22s/it]\n"
     ]
    },
    {
     "name": "stdout",
     "output_type": "stream",
     "text": [
      "Epoch 7: Train MSE = 303433.2456, Val MSE = 283458.3564, D Loss = 0.3432\n"
     ]
    },
    {
     "name": "stderr",
     "output_type": "stream",
     "text": [
      "[Epoch 8] Training: 100%|██████████| 141/141 [02:49<00:00,  1.20s/it]\n"
     ]
    },
    {
     "name": "stdout",
     "output_type": "stream",
     "text": [
      "Epoch 8: Train MSE = 266341.9385, Val MSE = 250070.5088, D Loss = 0.2550\n"
     ]
    },
    {
     "name": "stderr",
     "output_type": "stream",
     "text": [
      "[Epoch 9] Training: 100%|██████████| 141/141 [02:41<00:00,  1.15s/it]\n"
     ]
    },
    {
     "name": "stdout",
     "output_type": "stream",
     "text": [
      "Epoch 9: Train MSE = 235599.4748, Val MSE = 223794.8750, D Loss = 0.2091\n"
     ]
    },
    {
     "name": "stderr",
     "output_type": "stream",
     "text": [
      "[Epoch 10] Training: 100%|██████████| 141/141 [02:51<00:00,  1.22s/it]\n"
     ]
    },
    {
     "name": "stdout",
     "output_type": "stream",
     "text": [
      "Epoch 10: Train MSE = 210524.9993, Val MSE = 198029.7495, D Loss = 0.1782\n"
     ]
    },
    {
     "name": "stderr",
     "output_type": "stream",
     "text": [
      "[Epoch 11] Training: 100%|██████████| 141/141 [02:51<00:00,  1.22s/it]\n"
     ]
    },
    {
     "name": "stdout",
     "output_type": "stream",
     "text": [
      "Epoch 11: Train MSE = 186435.0812, Val MSE = 183020.1655, D Loss = 0.1619\n"
     ]
    },
    {
     "name": "stderr",
     "output_type": "stream",
     "text": [
      "[Epoch 12] Training: 100%|██████████| 141/141 [02:47<00:00,  1.19s/it]\n"
     ]
    },
    {
     "name": "stdout",
     "output_type": "stream",
     "text": [
      "Epoch 12: Train MSE = 166039.6601, Val MSE = 159333.5078, D Loss = 0.1501\n"
     ]
    },
    {
     "name": "stderr",
     "output_type": "stream",
     "text": [
      "[Epoch 13] Training: 100%|██████████| 141/141 [02:54<00:00,  1.24s/it]\n"
     ]
    },
    {
     "name": "stdout",
     "output_type": "stream",
     "text": [
      "Epoch 13: Train MSE = 147021.7060, Val MSE = 145243.6030, D Loss = 0.1423\n"
     ]
    },
    {
     "name": "stderr",
     "output_type": "stream",
     "text": [
      "[Epoch 14] Training: 100%|██████████| 141/141 [02:47<00:00,  1.19s/it]\n"
     ]
    },
    {
     "name": "stdout",
     "output_type": "stream",
     "text": [
      "Epoch 14: Train MSE = 131325.7334, Val MSE = 126682.2583, D Loss = 0.1405\n"
     ]
    },
    {
     "name": "stderr",
     "output_type": "stream",
     "text": [
      "[Epoch 15] Training: 100%|██████████| 141/141 [02:43<00:00,  1.16s/it]\n"
     ]
    },
    {
     "name": "stdout",
     "output_type": "stream",
     "text": [
      "Epoch 15: Train MSE = 118939.8271, Val MSE = 110168.9370, D Loss = 0.1369\n"
     ]
    },
    {
     "name": "stderr",
     "output_type": "stream",
     "text": [
      "Predicting: 100%|██████████| 33/33 [00:08<00:00,  4.08it/s]\n"
     ]
    },
    {
     "name": "stdout",
     "output_type": "stream",
     "text": [
      "Saved gan submission3.csv\n"
     ]
    }
   ],
   "source": [
    "# === MAIN SCRIPT ===\n",
    "def main():\n",
    "    # === Load Data ===\n",
    "    train_npz = np.load(\"/kaggle/input/cse-251-b-2025/train.npz\")\n",
    "    test_npz = np.load(\"/kaggle/input/cse-251-b-2025/test_input.npz\")\n",
    "\n",
    "    train_data = train_npz['data']  # shape: (10000, 50, 110, 6)\n",
    "    test_data = test_npz['data']    # shape: (2100, 50, 50, 6)\n",
    "\n",
    "    positions = train_data[..., :2].reshape(-1, 2)\n",
    "    mask = ~(positions == 0).all(axis=1)  # ignore padded zeros\n",
    "    pos_mean = positions[mask].mean(axis=0)\n",
    "    pos_std = positions[mask].std(axis=0)\n",
    "\n",
    "    velocities = train_data[..., 2:4].reshape(-1, 2)\n",
    "    vel_mask = ~(velocities == 0).all(axis=1)  # ignore padded zeros\n",
    "    vel_mean = velocities[vel_mask].mean(axis=0)\n",
    "    vel_std = velocities[vel_mask].std(axis=0)\n",
    "\n",
    "\n",
    "    # === Train/Val Split ===\n",
    "    full_dataset = TrajectoryDataset(train_data, train=True, pos_mean=pos_mean, pos_std=pos_std, \n",
    "                                     vel_mean=vel_mean, vel_std=vel_std)\n",
    "    train_size = int(TRAIN_RATIO * len(full_dataset))\n",
    "    val_size = len(full_dataset) - train_size\n",
    "    train_set, val_set = random_split(full_dataset, [train_size, val_size])\n",
    "\n",
    "    train_loader = DataLoader(train_set, batch_size=BATCH_SIZE, shuffle=True)\n",
    "    val_loader = DataLoader(val_set, batch_size=BATCH_SIZE, shuffle=False)\n",
    "\n",
    "    test_set = TrajectoryDataset(test_data, train=False, pos_mean=pos_mean, pos_std=pos_std)\n",
    "    test_loader = DataLoader(test_set, batch_size=BATCH_SIZE, shuffle=False)\n",
    "\n",
    "    # === Initialize Model ===\n",
    "    generator = Generator().to(DEVICE)\n",
    "    discriminator = Discriminator().to(DEVICE)\n",
    "    #print(\"Initialize Model done\")\n",
    "\n",
    "    # === Train ===\n",
    "    train_model(generator, discriminator, train_loader, val_loader, epochs=EPOCHS, lr=LR, \n",
    "                pos_mean=torch.from_numpy(pos_mean).float(),\n",
    "                pos_std=torch.from_numpy(pos_std).float())\n",
    "\n",
    "    # === Predict ===\n",
    "    preds = predict(generator, test_loader)  # shape: (2100, 60, 2)\n",
    "    preds = preds * (pos_std + 1e-6) + pos_mean\n",
    "\n",
    "    # === Generate Submission ===\n",
    "    ids = np.repeat(np.arange(len(test_set)), FUTURE_LEN)\n",
    "    x = preds[:, :, 0].reshape(-1)\n",
    "    y = preds[:, :, 1].reshape(-1)\n",
    "\n",
    "    output_df = pd.DataFrame({'x': x, 'y': y})\n",
    "    output_df.index.name = 'index'\n",
    "    output_df.to_csv('social_gan_3.csv')\n",
    "    print(\"Saved gan submission3.csv\")\n",
    "\n",
    "if __name__ == \"__main__\":\n",
    "    main()"
   ]
  },
  {
   "cell_type": "code",
   "execution_count": null,
   "metadata": {
    "trusted": true
   },
   "outputs": [],
   "source": []
  }
 ],
 "metadata": {
  "kaggle": {
   "accelerator": "none",
   "dataSources": [
    {
     "databundleVersionId": 11656558,
     "sourceId": 97693,
     "sourceType": "competition"
    }
   ],
   "dockerImageVersionId": 31012,
   "isGpuEnabled": false,
   "isInternetEnabled": true,
   "language": "python",
   "sourceType": "notebook"
  },
  "kernelspec": {
   "display_name": "Python 3",
   "language": "python",
   "name": "python3"
  },
  "language_info": {
   "codemirror_mode": {
    "name": "ipython",
    "version": 3
   },
   "file_extension": ".py",
   "mimetype": "text/x-python",
   "name": "python",
   "nbconvert_exporter": "python",
   "pygments_lexer": "ipython3",
   "version": "3.11.11"
  }
 },
 "nbformat": 4,
 "nbformat_minor": 4
}
